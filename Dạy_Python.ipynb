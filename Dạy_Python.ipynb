{
  "nbformat": 4,
  "nbformat_minor": 0,
  "metadata": {
    "colab": {
      "provenance": []
    },
    "kernelspec": {
      "name": "python3",
      "display_name": "Python 3"
    },
    "language_info": {
      "name": "python"
    }
  },
  "cells": [
    {
      "cell_type": "code",
      "execution_count": null,
      "metadata": {
        "id": "FI_KPaz2CNWL",
        "colab": {
          "base_uri": "https://localhost:8080/"
        },
        "outputId": "1476245d-c1e5-458c-e338-664b2d09c63b"
      },
      "outputs": [
        {
          "output_type": "stream",
          "name": "stdout",
          "text": [
            "xin chào\n"
          ]
        }
      ],
      "source": [
        "print(\"xin chào\")"
      ]
    },
    {
      "cell_type": "code",
      "source": [
        "n = input(\"nhập số n:\")"
      ],
      "metadata": {
        "colab": {
          "base_uri": "https://localhost:8080/"
        },
        "id": "m4zlDvT9oqnK",
        "outputId": "2def8ba0-01a7-4d2f-d2ea-67ee75d08732"
      },
      "execution_count": null,
      "outputs": [
        {
          "name": "stdout",
          "output_type": "stream",
          "text": [
            "nhập số n:abcd123\n"
          ]
        }
      ]
    },
    {
      "cell_type": "code",
      "source": [
        "print(n)"
      ],
      "metadata": {
        "colab": {
          "base_uri": "https://localhost:8080/"
        },
        "id": "aJOZLSmdotyl",
        "outputId": "b38f5c57-7a4a-4678-db82-bec5d7485e6f"
      },
      "execution_count": null,
      "outputs": [
        {
          "output_type": "stream",
          "name": "stdout",
          "text": [
            "abcd123\n"
          ]
        }
      ]
    },
    {
      "cell_type": "code",
      "source": [
        "n = int(input(\"nhập số n:\"))"
      ],
      "metadata": {
        "colab": {
          "base_uri": "https://localhost:8080/",
          "height": 187
        },
        "id": "-gxS-5M9om_g",
        "outputId": "98061488-9228-4f36-a667-92b85247adaf"
      },
      "execution_count": null,
      "outputs": [
        {
          "name": "stdout",
          "output_type": "stream",
          "text": [
            "nhập số n:abcd123\n"
          ]
        },
        {
          "output_type": "error",
          "ename": "ValueError",
          "evalue": "ignored",
          "traceback": [
            "\u001b[0;31m---------------------------------------------------------------------------\u001b[0m",
            "\u001b[0;31mValueError\u001b[0m                                Traceback (most recent call last)",
            "\u001b[0;32m<ipython-input-8-2b05c1031b9b>\u001b[0m in \u001b[0;36m<module>\u001b[0;34m\u001b[0m\n\u001b[0;32m----> 1\u001b[0;31m \u001b[0mn\u001b[0m \u001b[0;34m=\u001b[0m \u001b[0mint\u001b[0m\u001b[0;34m(\u001b[0m\u001b[0minput\u001b[0m\u001b[0;34m(\u001b[0m\u001b[0;34m\"nhập số n:\"\u001b[0m\u001b[0;34m)\u001b[0m\u001b[0;34m)\u001b[0m\u001b[0;34m\u001b[0m\u001b[0;34m\u001b[0m\u001b[0m\n\u001b[0m",
            "\u001b[0;31mValueError\u001b[0m: invalid literal for int() with base 10: 'abcd123'"
          ]
        }
      ]
    },
    {
      "cell_type": "code",
      "source": [
        "print(n)"
      ],
      "metadata": {
        "colab": {
          "base_uri": "https://localhost:8080/"
        },
        "id": "5ZKztfpVouqx",
        "outputId": "ade1b215-cb82-4210-a15f-c4065068eb3b"
      },
      "execution_count": null,
      "outputs": [
        {
          "output_type": "stream",
          "name": "stdout",
          "text": [
            "-123\n"
          ]
        }
      ]
    },
    {
      "cell_type": "code",
      "source": [
        "try:\n",
        "  n = int(input(\"nhập số n:\"))\n",
        "except:\n",
        "  print(\"nhap sai roi\")"
      ],
      "metadata": {
        "colab": {
          "base_uri": "https://localhost:8080/"
        },
        "id": "5zoN9UPXsts4",
        "outputId": "966a6eaf-c3ab-4001-d4c4-2f51c602e880"
      },
      "execution_count": null,
      "outputs": [
        {
          "output_type": "stream",
          "name": "stdout",
          "text": [
            "nhập số n:abcd123142\n",
            "nhap sai roi\n"
          ]
        }
      ]
    },
    {
      "cell_type": "code",
      "source": [
        "n"
      ],
      "metadata": {
        "colab": {
          "base_uri": "https://localhost:8080/"
        },
        "id": "npXkIxs_s1ni",
        "outputId": "1429c791-daf0-40e8-ae1c-a9897967d5ea"
      },
      "execution_count": null,
      "outputs": [
        {
          "output_type": "execute_result",
          "data": {
            "text/plain": [
              "1234"
            ]
          },
          "metadata": {},
          "execution_count": 11
        }
      ]
    },
    {
      "cell_type": "code",
      "source": [
        "n=0"
      ],
      "metadata": {
        "id": "KKXw_6H69UGU"
      },
      "execution_count": null,
      "outputs": []
    },
    {
      "cell_type": "code",
      "source": [
        "a=5"
      ],
      "metadata": {
        "id": "ErQwWvw6922F"
      },
      "execution_count": null,
      "outputs": []
    },
    {
      "cell_type": "code",
      "source": [
        "try:\n",
        "  a = 10/n\n",
        "except:\n",
        "  print(\"cau lenh bi loi, kiem tra lai\")"
      ],
      "metadata": {
        "colab": {
          "base_uri": "https://localhost:8080/"
        },
        "id": "M3xzcpFL9Oo_",
        "outputId": "c39cb771-5cad-4a35-dca9-4b7f4fce2044"
      },
      "execution_count": null,
      "outputs": [
        {
          "output_type": "stream",
          "name": "stdout",
          "text": [
            "cau lenh bi loi, kiem tra lai\n"
          ]
        }
      ]
    },
    {
      "cell_type": "code",
      "source": [
        "a"
      ],
      "metadata": {
        "colab": {
          "base_uri": "https://localhost:8080/"
        },
        "id": "-o4CQ_W19vDA",
        "outputId": "28de482a-cfd7-45b8-d3ad-05c7622f7b7c"
      },
      "execution_count": null,
      "outputs": [
        {
          "output_type": "execute_result",
          "data": {
            "text/plain": [
              "5"
            ]
          },
          "metadata": {},
          "execution_count": 11
        }
      ]
    },
    {
      "cell_type": "code",
      "source": [
        "k=5"
      ],
      "metadata": {
        "id": "Cdt6Q_wL-xw6"
      },
      "execution_count": null,
      "outputs": []
    },
    {
      "cell_type": "code",
      "source": [
        "k"
      ],
      "metadata": {
        "colab": {
          "base_uri": "https://localhost:8080/",
          "height": 35
        },
        "id": "ocASBI4I-1Ea",
        "outputId": "89a903da-f248-4ff9-c512-ed87a3b1e012"
      },
      "execution_count": null,
      "outputs": [
        {
          "output_type": "execute_result",
          "data": {
            "text/plain": [
              "'abcdef'"
            ],
            "application/vnd.google.colaboratory.intrinsic+json": {
              "type": "string"
            }
          },
          "metadata": {},
          "execution_count": 17
        }
      ]
    },
    {
      "cell_type": "code",
      "source": [
        "K"
      ],
      "metadata": {
        "colab": {
          "base_uri": "https://localhost:8080/",
          "height": 169
        },
        "id": "R5aTm1V0_yI2",
        "outputId": "02bfe5a0-900b-4d0f-a041-dc7bd1ceb3e4"
      },
      "execution_count": null,
      "outputs": [
        {
          "output_type": "error",
          "ename": "NameError",
          "evalue": "ignored",
          "traceback": [
            "\u001b[0;31m---------------------------------------------------------------------------\u001b[0m",
            "\u001b[0;31mNameError\u001b[0m                                 Traceback (most recent call last)",
            "\u001b[0;32m<ipython-input-18-9d60f706cc3c>\u001b[0m in \u001b[0;36m<module>\u001b[0;34m\u001b[0m\n\u001b[0;32m----> 1\u001b[0;31m \u001b[0mK\u001b[0m\u001b[0;34m\u001b[0m\u001b[0;34m\u001b[0m\u001b[0m\n\u001b[0m",
            "\u001b[0;31mNameError\u001b[0m: name 'K' is not defined"
          ]
        }
      ]
    },
    {
      "cell_type": "code",
      "source": [
        "k='abcdef'"
      ],
      "metadata": {
        "id": "AWmn1uh4-4Z2"
      },
      "execution_count": null,
      "outputs": []
    },
    {
      "cell_type": "code",
      "source": [
        "a=4/2"
      ],
      "metadata": {
        "id": "imRQPo-FArPA"
      },
      "execution_count": null,
      "outputs": []
    },
    {
      "cell_type": "code",
      "source": [
        "a"
      ],
      "metadata": {
        "colab": {
          "base_uri": "https://localhost:8080/"
        },
        "id": "p8xAbFe7At4c",
        "outputId": "e7984846-ade0-4599-e3ea-a7a3ea8f2771"
      },
      "execution_count": null,
      "outputs": [
        {
          "output_type": "execute_result",
          "data": {
            "text/plain": [
              "2.0"
            ]
          },
          "metadata": {},
          "execution_count": 20
        }
      ]
    },
    {
      "cell_type": "code",
      "source": [
        "type(a)"
      ],
      "metadata": {
        "colab": {
          "base_uri": "https://localhost:8080/"
        },
        "id": "nbDO1nVTAyIR",
        "outputId": "d98e14a3-5afb-4f3d-9d8c-e700234f5473"
      },
      "execution_count": null,
      "outputs": [
        {
          "output_type": "execute_result",
          "data": {
            "text/plain": [
              "float"
            ]
          },
          "metadata": {},
          "execution_count": 23
        }
      ]
    },
    {
      "cell_type": "code",
      "source": [
        "a= 5\n",
        "b= 5.0\n",
        "c = int(a + b)"
      ],
      "metadata": {
        "id": "E7WHiRltBSZn"
      },
      "execution_count": null,
      "outputs": []
    },
    {
      "cell_type": "code",
      "source": [
        "c\n",
        "type(c)"
      ],
      "metadata": {
        "colab": {
          "base_uri": "https://localhost:8080/"
        },
        "id": "qElu8Eh-BV7W",
        "outputId": "486dcdac-1323-4b79-a70f-e71e6311376c"
      },
      "execution_count": null,
      "outputs": [
        {
          "output_type": "execute_result",
          "data": {
            "text/plain": [
              "int"
            ]
          },
          "metadata": {},
          "execution_count": 29
        }
      ]
    },
    {
      "cell_type": "markdown",
      "source": [
        "Ví dụ 1: Kiểm tra chẵn lẻ"
      ],
      "metadata": {
        "id": "ZUWgZjjgFQCO"
      }
    },
    {
      "cell_type": "code",
      "source": [
        "n = int(input(\"nhap so n:\"))\n",
        "if n%2==0:\n",
        "  print(\"n le\")\n",
        "else:\n",
        "  print(\"n chan\")"
      ],
      "metadata": {
        "id": "_rLFf1zyFPzN"
      },
      "execution_count": null,
      "outputs": []
    },
    {
      "cell_type": "markdown",
      "source": [
        "Ví dụ 2:\n",
        "Nhập vào a, b\n",
        "In ra màn hình giá trị tuyệt đối của |a-b|"
      ],
      "metadata": {
        "id": "x9zH5MsTGiv2"
      }
    },
    {
      "cell_type": "code",
      "source": [
        "a = int(input(\"nhap so a:\"))\n",
        "b = int(input(\"nhap so b:\"))\n",
        "c = a - b\n",
        "if c>0:\n",
        "  print(c)\n",
        "else:\n",
        "  print(-c)\n"
      ],
      "metadata": {
        "colab": {
          "base_uri": "https://localhost:8080/"
        },
        "id": "IpS4f3ymIKpt",
        "outputId": "182cfc5b-d4dc-4dbb-add9-db74dd61f060"
      },
      "execution_count": null,
      "outputs": [
        {
          "output_type": "stream",
          "name": "stdout",
          "text": [
            "nhap so a:4\n",
            "nhap so b:3\n",
            "1\n"
          ]
        }
      ]
    },
    {
      "cell_type": "markdown",
      "source": [
        "#CODE Trên lớp ngày 15/03/2023"
      ],
      "metadata": {
        "id": "hKaUVgbzBZgd"
      }
    },
    {
      "cell_type": "code",
      "source": [
        "a = [1,4,7,8,5,6]"
      ],
      "metadata": {
        "id": "z8iYOKt4LPyQ"
      },
      "execution_count": null,
      "outputs": []
    },
    {
      "cell_type": "code",
      "source": [
        "a = 'xinchao'"
      ],
      "metadata": {
        "id": "DwVfbOs96uxs"
      },
      "execution_count": null,
      "outputs": []
    },
    {
      "cell_type": "code",
      "source": [
        "len(a)"
      ],
      "metadata": {
        "colab": {
          "base_uri": "https://localhost:8080/"
        },
        "id": "ikM46p6X6nz6",
        "outputId": "3e39f8b9-2d64-46d5-cdc5-b9ce1a540f48"
      },
      "execution_count": null,
      "outputs": [
        {
          "output_type": "execute_result",
          "data": {
            "text/plain": [
              "7"
            ]
          },
          "metadata": {},
          "execution_count": 20
        }
      ]
    },
    {
      "cell_type": "code",
      "source": [
        "a[1:3]"
      ],
      "metadata": {
        "colab": {
          "base_uri": "https://localhost:8080/"
        },
        "id": "NtESMKaf3FEG",
        "outputId": "a6c5ab0d-36e0-4f03-c1cf-c93772cbc27c"
      },
      "execution_count": null,
      "outputs": [
        {
          "output_type": "execute_result",
          "data": {
            "text/plain": [
              "[4, 7]"
            ]
          },
          "metadata": {},
          "execution_count": 2
        }
      ]
    },
    {
      "cell_type": "code",
      "source": [
        "a[3]"
      ],
      "metadata": {
        "colab": {
          "base_uri": "https://localhost:8080/"
        },
        "id": "ukWG4-5R3R_R",
        "outputId": "246eba45-fd47-4198-f6af-ffa1e7fe1b86"
      },
      "execution_count": null,
      "outputs": [
        {
          "output_type": "execute_result",
          "data": {
            "text/plain": [
              "8"
            ]
          },
          "metadata": {},
          "execution_count": 3
        }
      ]
    },
    {
      "cell_type": "code",
      "source": [
        "a[-5]"
      ],
      "metadata": {
        "colab": {
          "base_uri": "https://localhost:8080/"
        },
        "id": "nJZhEVnQ3VcX",
        "outputId": "5f37abcb-554d-4a32-fcd3-b8f6e1cfa2d9"
      },
      "execution_count": null,
      "outputs": [
        {
          "output_type": "execute_result",
          "data": {
            "text/plain": [
              "4"
            ]
          },
          "metadata": {},
          "execution_count": 7
        }
      ]
    },
    {
      "cell_type": "code",
      "source": [
        "for i in [1,5]:\n",
        "  print(i)"
      ],
      "metadata": {
        "colab": {
          "base_uri": "https://localhost:8080/"
        },
        "id": "OrsKIfDE4pE6",
        "outputId": "723d0495-6c34-44b6-a36d-341004e67e7d"
      },
      "execution_count": null,
      "outputs": [
        {
          "output_type": "stream",
          "name": "stdout",
          "text": [
            "1\n",
            "5\n"
          ]
        }
      ]
    },
    {
      "cell_type": "code",
      "source": [
        "for i in range(1,5):\n",
        "  print(i)"
      ],
      "metadata": {
        "colab": {
          "base_uri": "https://localhost:8080/"
        },
        "id": "gdr2Tbd244ll",
        "outputId": "43b22f35-4e93-427d-83b8-1a07c9c8b311"
      },
      "execution_count": null,
      "outputs": [
        {
          "output_type": "stream",
          "name": "stdout",
          "text": [
            "1\n",
            "2\n",
            "3\n",
            "4\n"
          ]
        }
      ]
    },
    {
      "cell_type": "code",
      "source": [
        "print(range(1,5))"
      ],
      "metadata": {
        "colab": {
          "base_uri": "https://localhost:8080/"
        },
        "id": "SSLmpbfU56Fs",
        "outputId": "55e2462d-7f54-40b0-89ec-18cfba852e6a"
      },
      "execution_count": null,
      "outputs": [
        {
          "output_type": "stream",
          "name": "stdout",
          "text": [
            "range(1, 5)\n"
          ]
        }
      ]
    },
    {
      "cell_type": "code",
      "source": [
        "a = [1, 4, 5, 7]\n",
        "N = len(a)\n",
        "print(\"Kich thuoc mang\", N)\n",
        "for i in range(0,N): \n",
        "  print(a[i])"
      ],
      "metadata": {
        "colab": {
          "base_uri": "https://localhost:8080/"
        },
        "id": "TpLw-sg78Bdp",
        "outputId": "dd48ccab-48f3-4f12-a394-1e290eb4b06b"
      },
      "execution_count": null,
      "outputs": [
        {
          "output_type": "stream",
          "name": "stdout",
          "text": [
            "Kich thuoc mang 4\n",
            "1\n",
            "4\n",
            "5\n",
            "7\n"
          ]
        }
      ]
    },
    {
      "cell_type": "code",
      "source": [
        "a = [1, 4, 5, 7]\n",
        "N = len(a)\n",
        "print(\"Kich thuoc mang\", N) \n",
        "for i in range(0,N):\n",
        "  print(\"So thu\",i + 1, a[i]) \n",
        "  N=0"
      ],
      "metadata": {
        "colab": {
          "base_uri": "https://localhost:8080/"
        },
        "id": "kSzpIz_T9drv",
        "outputId": "f4f28f03-db61-4d54-e866-d6ec524dee07"
      },
      "execution_count": null,
      "outputs": [
        {
          "output_type": "stream",
          "name": "stdout",
          "text": [
            "Kich thuoc mang 4\n",
            "So thu 1 1\n",
            "So thu 2 4\n",
            "So thu 3 5\n",
            "So thu 4 7\n"
          ]
        }
      ]
    },
    {
      "cell_type": "markdown",
      "source": [
        "CHƯƠNG TRÌNH NHẬP MẢNG"
      ],
      "metadata": {
        "id": "cSW7d3BR_NqP"
      }
    },
    {
      "cell_type": "code",
      "source": [
        "mang = [] #khoi tao mang trong\n",
        "chieudai = int(input(\"hay nhap chieu dai mang \")) #nhap chieu dai cua mang\n",
        "for bienchay in range(0,chieudai):\n",
        "  mang.append(int(input(\"nhap phan tu \"))) # nhap phan tu mang\n",
        "\n",
        "print(len(mang)) #in ra chieu dai mang\n",
        "\n",
        "for bienchay in range(0,chieudai): \n",
        "  print(mang[bienchay]) #in ra cac phan tu cua mang\n",
        "\n",
        "\n",
        "\n",
        "####tính tổng và in ra màn hình tổng của các phần tử mảng\n",
        "\n",
        "#khởi tạo biến tổng\n",
        "#duyệt qua từng phần tử và cộng dồn\n",
        "#xuất ra màn hình\n"
      ],
      "metadata": {
        "colab": {
          "base_uri": "https://localhost:8080/"
        },
        "id": "EuWMDv14_Qhl",
        "outputId": "67596d85-6742-4540-bcd0-aa62cf14db5a"
      },
      "execution_count": null,
      "outputs": [
        {
          "output_type": "stream",
          "name": "stdout",
          "text": [
            "hay nhap chieu dai mang5\n",
            "nhap phan thu1\n",
            "nhap phan thu2\n",
            "nhap phan thu3\n",
            "nhap phan thu5\n",
            "nhap phan thu4\n",
            "5\n",
            "1\n",
            "2\n",
            "3\n",
            "5\n",
            "4\n"
          ]
        }
      ]
    },
    {
      "cell_type": "code",
      "source": [
        "tong =0\n",
        "for i in range(0,len(mang)):\n",
        "  tong = tong + mang[i]\n",
        "print(\"tong cac phan tu la:\",tong)"
      ],
      "metadata": {
        "colab": {
          "base_uri": "https://localhost:8080/"
        },
        "id": "BAxZe3FxNa7M",
        "outputId": "dadae8ba-7201-466a-96b0-99b99252261b"
      },
      "execution_count": null,
      "outputs": [
        {
          "output_type": "stream",
          "name": "stdout",
          "text": [
            "tong cac phan tu la: 15\n"
          ]
        }
      ]
    },
    {
      "cell_type": "code",
      "source": [
        "tong =0\n",
        "for i in range(0,len(mang)):\n",
        "  if (i%2!=0):\n",
        "    tong = tong + mang[i]\n",
        "print(\"tong cac phan tu co chi so le la:\",tong)"
      ],
      "metadata": {
        "colab": {
          "base_uri": "https://localhost:8080/"
        },
        "id": "WbZvGYZ7Rz_e",
        "outputId": "39889ed9-06b0-4f02-f155-2460004434be"
      },
      "execution_count": null,
      "outputs": [
        {
          "output_type": "stream",
          "name": "stdout",
          "text": [
            "tong cac phan tu co chi so le la: 7\n"
          ]
        }
      ]
    },
    {
      "cell_type": "code",
      "source": [
        "for i in range(0,5):\n",
        "  print(chr(i+97))"
      ],
      "metadata": {
        "colab": {
          "base_uri": "https://localhost:8080/"
        },
        "id": "eLNff-uZEkF9",
        "outputId": "6ac6da5e-c5b8-4ca8-f03d-58a26463bec7"
      },
      "execution_count": null,
      "outputs": [
        {
          "output_type": "stream",
          "name": "stdout",
          "text": [
            "a\n",
            "b\n",
            "c\n",
            "d\n",
            "e\n"
          ]
        }
      ]
    },
    {
      "cell_type": "code",
      "source": [
        "a = 5"
      ],
      "metadata": {
        "id": "w0xXZUdlHi-8"
      },
      "execution_count": null,
      "outputs": []
    },
    {
      "cell_type": "code",
      "source": [
        "print(a)"
      ],
      "metadata": {
        "colab": {
          "base_uri": "https://localhost:8080/"
        },
        "id": "cGu_NrO0Hj9q",
        "outputId": "9bf3c0f8-a4fe-4b75-ddff-4627f2c61379"
      },
      "execution_count": null,
      "outputs": [
        {
          "output_type": "stream",
          "name": "stdout",
          "text": [
            "10\n"
          ]
        }
      ]
    },
    {
      "cell_type": "code",
      "source": [
        "a =10"
      ],
      "metadata": {
        "id": "Rw0BYXMMHlNV"
      },
      "execution_count": null,
      "outputs": []
    },
    {
      "cell_type": "markdown",
      "source": [
        "##MẢNG 2 CHIỀU"
      ],
      "metadata": {
        "id": "D1zDxnUP1zBH"
      }
    },
    {
      "cell_type": "code",
      "source": [
        "a = [[1,2,3],[4,5,6],[7,8,9]]\n",
        "tong = 0\n",
        "for i in a[:][1]:\n",
        "  tong+=i\n",
        "print(\"tong la\", tong)"
      ],
      "metadata": {
        "colab": {
          "base_uri": "https://localhost:8080/"
        },
        "id": "g19b53ej1lbN",
        "outputId": "eaac49d8-f68f-4298-d366-c94ab31eb43c"
      },
      "execution_count": null,
      "outputs": [
        {
          "output_type": "stream",
          "name": "stdout",
          "text": [
            "tong la 15\n"
          ]
        }
      ]
    },
    {
      "cell_type": "code",
      "source": [
        "tong = 0\n",
        "for i in range(len(a)):\n",
        "  for j in range(len(a[i])):\n",
        "    tong += a[i][j]\n",
        "print(tong)"
      ],
      "metadata": {
        "colab": {
          "base_uri": "https://localhost:8080/"
        },
        "id": "TJfiRSF_4hog",
        "outputId": "de0564ce-1137-40f4-d5b8-746c2c32d556"
      },
      "execution_count": null,
      "outputs": [
        {
          "output_type": "stream",
          "name": "stdout",
          "text": [
            "45\n"
          ]
        }
      ]
    },
    {
      "cell_type": "code",
      "source": [
        "for i in range(0,3):\n",
        "  for j in range(0,i+1):\n",
        "    print(i,j)"
      ],
      "metadata": {
        "colab": {
          "base_uri": "https://localhost:8080/"
        },
        "id": "bjt2yzct76wy",
        "outputId": "a0437abe-4b78-426b-9216-b2b96c01d2aa"
      },
      "execution_count": null,
      "outputs": [
        {
          "output_type": "stream",
          "name": "stdout",
          "text": [
            "0 0\n",
            "1 0\n",
            "1 1\n",
            "2 0\n",
            "2 1\n",
            "2 2\n"
          ]
        }
      ]
    },
    {
      "cell_type": "code",
      "source": [
        "a = [[1,2,3],[4,5,6],[7,8,9]] \n",
        "for i in range (0,2):\n",
        "  for j in range (0,2): \n",
        "    print(a[i][j])"
      ],
      "metadata": {
        "colab": {
          "base_uri": "https://localhost:8080/"
        },
        "id": "CcwT53epCBm-",
        "outputId": "6f0869f1-6402-4a11-e754-99348c8dc545"
      },
      "execution_count": null,
      "outputs": [
        {
          "output_type": "stream",
          "name": "stdout",
          "text": [
            "1\n",
            "2\n",
            "4\n",
            "5\n"
          ]
        }
      ]
    },
    {
      "cell_type": "code",
      "source": [
        "x = 0\n",
        "for i in range(0,1):\n",
        "  for j in range(0,2): \n",
        "    for k in range(0,3):\n",
        "      x = x + 1\n",
        "print(x)"
      ],
      "metadata": {
        "colab": {
          "base_uri": "https://localhost:8080/"
        },
        "id": "HIPXH9vBE4Lf",
        "outputId": "45599f04-107f-4373-93ed-1cac883bdafc"
      },
      "execution_count": null,
      "outputs": [
        {
          "output_type": "stream",
          "name": "stdout",
          "text": [
            "6\n"
          ]
        }
      ]
    },
    {
      "cell_type": "code",
      "source": [
        "x=0\n",
        "a = [[1,2,3],[4,5,6]] \n",
        "for i in range (0,2):\n",
        "  for j in range (0,3):\n",
        "    print(i,j)\n",
        "    if a[i][j] % 2 == 0:\n",
        "      break\n",
        "    else:\n",
        "      x = x + a[i][j]"
      ],
      "metadata": {
        "colab": {
          "base_uri": "https://localhost:8080/"
        },
        "id": "OCJvfzHrIP4g",
        "outputId": "7066615e-bd8e-4b39-bba7-ff071fbd37bb"
      },
      "execution_count": null,
      "outputs": [
        {
          "output_type": "stream",
          "name": "stdout",
          "text": [
            "0 0\n",
            "0 1\n",
            "1 0\n"
          ]
        }
      ]
    },
    {
      "cell_type": "code",
      "source": [
        "dem = 0\n",
        "while (dem<=6):\n",
        "  print(\"Luot lap:\",dem)\n",
        "  dem = dem + 1\n",
        "else:\n",
        "  print(\"xong vong lap while, dem = \",dem)\n",
        "print(\"Done\")"
      ],
      "metadata": {
        "colab": {
          "base_uri": "https://localhost:8080/"
        },
        "id": "gne94HI7G8Vy",
        "outputId": "99e2746f-6b87-4db5-a5c8-3f0cabe51407"
      },
      "execution_count": null,
      "outputs": [
        {
          "output_type": "stream",
          "name": "stdout",
          "text": [
            "Luot lap: 0\n",
            "Luot lap: 1\n",
            "Luot lap: 2\n",
            "Luot lap: 3\n",
            "Luot lap: 4\n",
            "Luot lap: 5\n",
            "Luot lap: 6\n",
            "xong vong lap while, dem =  7\n",
            "Done\n"
          ]
        }
      ]
    },
    {
      "cell_type": "code",
      "source": [
        "print(\"0\")"
      ],
      "metadata": {
        "colab": {
          "base_uri": "https://localhost:8080/"
        },
        "id": "bw6hfPqGPmxZ",
        "outputId": "c4c1e582-063d-4755-b9f1-0e2ed17dd947"
      },
      "execution_count": null,
      "outputs": [
        {
          "output_type": "stream",
          "name": "stdout",
          "text": [
            "0\n"
          ]
        }
      ]
    },
    {
      "cell_type": "code",
      "source": [
        "a=99999"
      ],
      "metadata": {
        "id": "hJx_cOEmQBv_"
      },
      "execution_count": null,
      "outputs": []
    },
    {
      "cell_type": "code",
      "source": [
        "while a:\n",
        "  print(5)"
      ],
      "metadata": {
        "id": "5XmucVzWPFTM"
      },
      "execution_count": null,
      "outputs": []
    },
    {
      "cell_type": "code",
      "source": [
        "n = int(input(\"nhap so n:\"))\n",
        "i=2\n",
        "while i<n-1:\n",
        "  if n%i==0:\n",
        "    print(\"ko phai so nguyen to\")\n",
        "    break\n",
        "  i = i + 1\n",
        "if i==n-1:\n",
        "  print(\"so nguyen to\")\n",
        "if n==1:\n",
        "  print(\"ko phai so nguyen to\")"
      ],
      "metadata": {
        "colab": {
          "base_uri": "https://localhost:8080/"
        },
        "id": "FWPd-wDIzjIg",
        "outputId": "7cf6f2bf-be72-4ee2-cef8-9cd1a92b4b18"
      },
      "execution_count": null,
      "outputs": [
        {
          "output_type": "stream",
          "name": "stdout",
          "text": [
            "nhap so n:17\n",
            "so nguyen to\n"
          ]
        }
      ]
    },
    {
      "cell_type": "markdown",
      "source": [
        "Nhập N,In ra màn hình:\n",
        "TỔNG các số chia hết cho 3 trong khoảng từ 1 đến N.\n",
        "VD:\n",
        "N=5: Tổng = 3\n",
        "N=10: Tổng = 3 + 6 + 9 = 18\n",
        "N=12: Tổng = 3 + 6 + 9 + 12 = 30"
      ],
      "metadata": {
        "id": "0aAuIapH1r0h"
      }
    },
    {
      "cell_type": "code",
      "source": [
        "n = int(input(\"nhap so n:\"))\n",
        "tong = 0\n",
        "i=1\n",
        "while i*3<=n:\n",
        "  tong = tong + i*3\n",
        "  i+=1\n",
        "print(\"Tong la:\",tong)"
      ],
      "metadata": {
        "colab": {
          "base_uri": "https://localhost:8080/"
        },
        "id": "K0awawNg1rZa",
        "outputId": "695d52c1-b3ce-4706-c09a-43bafa5e3fd1"
      },
      "execution_count": null,
      "outputs": [
        {
          "output_type": "stream",
          "name": "stdout",
          "text": [
            "nhap so n:10\n",
            "Tong la: 18\n"
          ]
        }
      ]
    },
    {
      "cell_type": "markdown",
      "source": [
        "Nhập vào N. In ra màn hình:\n",
        "Tổng các số chia hết cho 3 trong dãy từ 1 .. N.\n",
        "VD:\n",
        "N= 5: 3\n",
        "N=10: 3  6  9 \n",
        "N=12: 3  6  9  12 \n",
        "N=20: 3  6  9  12  15  18"
      ],
      "metadata": {
        "id": "xMRQ4pxF5Qse"
      }
    },
    {
      "cell_type": "markdown",
      "source": [
        "Nhập vào N. In ra màn hình:\n",
        "TỔNG các số nguyên tố trong dãy từ 1 .. N.\n",
        "VD:\n",
        "N= 5: TỔNG = 8\n",
        "N=10: TỔNG = 15\n",
        "N=12: TỔNG = 26 \n",
        "N=20: TỔNG = 75"
      ],
      "metadata": {
        "id": "8DmWjTj68VHM"
      }
    },
    {
      "cell_type": "code",
      "source": [
        "import RPi.GPIO as GPIO \n",
        "from time import sleep \n",
        "GPIO.setwarnings(False) \n",
        "GPIO.setmode(GPIO.BCM) \n",
        "GPIO.setup(17, GPIO.OUT)\n",
        "GPIO.setup(27, GPIO.OUT)\n",
        "p = GPIO.PWM(17, 100)\n",
        "k = GPIO.PWM(27, 100)\n",
        "k.start(0)\n",
        "p.start(0)\n",
        "dc=0\n",
        "while (1):\n",
        "  for i in range(0, 10): \n",
        "        dc += 10 \n",
        "        p.ChangeDutyCycle(dc)  # where 0.0 <= dc <= 100.0 \n",
        "        k.ChangeDutyCycle(100-dc)\n",
        "        sleep(0.2) \n",
        " \n",
        "    for i in range(0, 10): \n",
        "        dc -= 10 \n",
        "        p.ChangeDutyCycle(dc)  # where 0.0 <= dc <= 100.0 \n",
        "        k.ChangeDutyCycle(100-dc)\n",
        "        sleep(0.2) \n",
        "k.stop()\n",
        "p.stop()\n",
        "GPIO.cleanup()\n"
      ],
      "metadata": {
        "id": "Xdtmt5sO8UA1"
      },
      "execution_count": null,
      "outputs": []
    },
    {
      "cell_type": "markdown",
      "source": [
        "#Bài Tập điều khiển LED bằng nút nhấn.\n",
        "(chế độ Internal Pull-Up Resistor)\n"
      ],
      "metadata": {
        "id": "VbRQoh7zhYdz"
      }
    },
    {
      "cell_type": "code",
      "source": [
        "import RPi.GPIO as GPIO\n",
        "from time import sleep\n",
        "#Set warnings off (optional)\n",
        "GPIO.setwarnings(False)\n",
        "GPIO.setmode(GPIO.BCM)\n",
        "#Set Button and LED pins\n",
        "Button = 23\n",
        "LED = 24\n",
        "#Setup Button and LED\n",
        "GPIO.setup(Button,GPIO.IN,pull_up_down=GPIO.PUD_UP)\n",
        "GPIO.setup(LED,GPIO.OUT)\n",
        "#flag = 0\n",
        "\n",
        "while True:\n",
        "    button_state = GPIO.input(Button)\n",
        "    print(button_state)\n",
        "    if button_state == 0:\n",
        "        GPIO.output(LED,GPIO.LOW)\n",
        "    else:\n",
        "        GPIO.output(LED,GPIO.HIGH)\n",
        "    sleep(1)\n"
      ],
      "metadata": {
        "id": "029d6FZ5Q9OC"
      },
      "execution_count": null,
      "outputs": []
    },
    {
      "cell_type": "code",
      "source": [
        "import RPi.GPIO as IC595\n",
        "from time import sleep\n",
        "IC595.setwarnings(False)\n",
        "IC595.setmode(IC595.BCM)\n",
        "DATA_PIN =\n",
        "SH_CP_PIN = \n",
        "ST_CP_PIN = \n",
        "IC595.setup(DATA_PIN, IC595.OUT)\n",
        "IC595.setup(SH_CP_PIN, IC595.OUT)\n",
        "IC595.setup(ST_CP_PIN, IC595.OUT)\n",
        "\n",
        "IC595.output(DATA_PIN,0)\n",
        "IC595.output(SH_CP_PIN,0)\n",
        "IC595.output(ST_CP_PIN,0)\n",
        "\n",
        "data = [1,0,1,0,1,1,0,1]\n",
        "def nhip_xung():\n",
        "  IC595.output(SH_CP_PIN,0)\n",
        "  sleep(0.1)\n",
        "  IC595.output(SH_CP_PIN,1)\n",
        "def chot_data():\n",
        "  IC595.output(ST_CP_PIN,0)\n",
        "  sleep(0.1)\n",
        "  IC595.output(ST_CP_PIN,1)\n",
        "\n",
        "while (True):\n",
        "  for i in data:\n",
        "    IC595.output(DATA_PIN,i)\n",
        "    nhipxung()\n",
        "  chotxung()\n"
      ],
      "metadata": {
        "id": "v4sKIdTuLFaR"
      },
      "execution_count": null,
      "outputs": []
    },
    {
      "cell_type": "markdown",
      "source": [
        "Điều khiển 8 LED sáng lan dần từ trái sang phải dùng IC 74HC595."
      ],
      "metadata": {
        "id": "RMjZkC1tVD7B"
      }
    },
    {
      "cell_type": "markdown",
      "source": [
        "Gán giá trị dạng bit cho biến số"
      ],
      "metadata": {
        "id": "cYj1oAigdcAR"
      }
    },
    {
      "cell_type": "code",
      "source": [
        "a = 0b10101001"
      ],
      "metadata": {
        "id": "pU8RIv5dU7MS"
      },
      "execution_count": null,
      "outputs": []
    },
    {
      "cell_type": "markdown",
      "source": [
        "In ra a"
      ],
      "metadata": {
        "id": "g942WVugdfYe"
      }
    },
    {
      "cell_type": "code",
      "source": [
        "print(a)"
      ],
      "metadata": {
        "colab": {
          "base_uri": "https://localhost:8080/"
        },
        "id": "2vRfwtRmdQ-q",
        "outputId": "a712b627-5c0d-432a-b456-5ce74ed565dd"
      },
      "execution_count": null,
      "outputs": [
        {
          "output_type": "stream",
          "name": "stdout",
          "text": [
            "169\n"
          ]
        }
      ]
    },
    {
      "cell_type": "markdown",
      "source": [
        "#Phép toán dịch phải \"X\" bit"
      ],
      "metadata": {
        "id": "a5Lx2wVkdhQN"
      }
    },
    {
      "cell_type": "code",
      "source": [
        "print(a>>1) # a = 0b1010100"
      ],
      "metadata": {
        "colab": {
          "base_uri": "https://localhost:8080/"
        },
        "id": "T5-s_A-qdU8P",
        "outputId": "bf04f611-2604-4dde-be21-da4485ca36df"
      },
      "execution_count": null,
      "outputs": [
        {
          "output_type": "stream",
          "name": "stdout",
          "text": [
            "84\n"
          ]
        }
      ]
    },
    {
      "cell_type": "code",
      "source": [
        "print(a>>2) # a = 0b101010"
      ],
      "metadata": {
        "colab": {
          "base_uri": "https://localhost:8080/"
        },
        "id": "YO0NPUl2dtwb",
        "outputId": "de0fd523-95a8-42e0-85c1-03b08a848d21"
      },
      "execution_count": null,
      "outputs": [
        {
          "output_type": "stream",
          "name": "stdout",
          "text": [
            "42\n"
          ]
        }
      ]
    },
    {
      "cell_type": "code",
      "source": [
        "print(a>>3) # a = 0b10101"
      ],
      "metadata": {
        "colab": {
          "base_uri": "https://localhost:8080/"
        },
        "id": "YdvhSvuadvz2",
        "outputId": "6438ed98-d358-4d86-c91a-442a7af542d9"
      },
      "execution_count": null,
      "outputs": [
        {
          "output_type": "stream",
          "name": "stdout",
          "text": [
            "21\n"
          ]
        }
      ]
    },
    {
      "cell_type": "code",
      "source": [
        "print(a>>4) # a = 0b1010"
      ],
      "metadata": {
        "colab": {
          "base_uri": "https://localhost:8080/"
        },
        "id": "HB8YfDkNdyEd",
        "outputId": "a5ba7d1d-7801-4c7b-f3b5-1d9a02048bc8"
      },
      "execution_count": null,
      "outputs": [
        {
          "output_type": "stream",
          "name": "stdout",
          "text": [
            "10\n"
          ]
        }
      ]
    },
    {
      "cell_type": "code",
      "source": [
        "print(a>>5) # a = 0b101"
      ],
      "metadata": {
        "colab": {
          "base_uri": "https://localhost:8080/"
        },
        "id": "vYZ4kfZgd0RF",
        "outputId": "e923a418-a21e-4555-84ff-c3c732e3a5e5"
      },
      "execution_count": null,
      "outputs": [
        {
          "output_type": "stream",
          "name": "stdout",
          "text": [
            "5\n"
          ]
        }
      ]
    },
    {
      "cell_type": "markdown",
      "source": [
        "#Phép toán dịch trái \"X\" bit"
      ],
      "metadata": {
        "id": "5_cEi_Atd5So"
      }
    },
    {
      "cell_type": "code",
      "source": [
        "print(a<<1) # a = 0b101010010"
      ],
      "metadata": {
        "colab": {
          "base_uri": "https://localhost:8080/"
        },
        "id": "h4mnSR3td2TU",
        "outputId": "d923a676-6ae1-4682-d080-544b6dffcfdf"
      },
      "execution_count": null,
      "outputs": [
        {
          "output_type": "stream",
          "name": "stdout",
          "text": [
            "338\n"
          ]
        }
      ]
    },
    {
      "cell_type": "code",
      "source": [
        "print(a<<2) # a = 0b1010100100"
      ],
      "metadata": {
        "colab": {
          "base_uri": "https://localhost:8080/"
        },
        "id": "e6xObzm5d_pg",
        "outputId": "87246b47-a6cc-4fac-8ec8-d5c77a6cd8d4"
      },
      "execution_count": null,
      "outputs": [
        {
          "output_type": "stream",
          "name": "stdout",
          "text": [
            "676\n"
          ]
        }
      ]
    },
    {
      "cell_type": "code",
      "source": [
        "print(a<<3) # a = 0b10101001000"
      ],
      "metadata": {
        "colab": {
          "base_uri": "https://localhost:8080/"
        },
        "id": "dlPW6QCdeH-9",
        "outputId": "bd3eca11-60fc-4ee2-e0a0-a5900595df50"
      },
      "execution_count": null,
      "outputs": [
        {
          "output_type": "stream",
          "name": "stdout",
          "text": [
            "1352\n"
          ]
        }
      ]
    },
    {
      "cell_type": "code",
      "source": [
        "print(a<<4) # a = 0b101010010000"
      ],
      "metadata": {
        "colab": {
          "base_uri": "https://localhost:8080/"
        },
        "id": "rgWyF5NdeLeU",
        "outputId": "b95533c5-50ea-4de9-ba91-0723da27537a"
      },
      "execution_count": null,
      "outputs": [
        {
          "output_type": "stream",
          "name": "stdout",
          "text": [
            "2704\n"
          ]
        }
      ]
    },
    {
      "cell_type": "code",
      "source": [
        "print(a<<5) # a = 0b1010100100000"
      ],
      "metadata": {
        "colab": {
          "base_uri": "https://localhost:8080/"
        },
        "id": "joUfaG0geM7V",
        "outputId": "34b01ad5-72dd-4759-9cf0-8e887f9a1b65"
      },
      "execution_count": null,
      "outputs": [
        {
          "output_type": "stream",
          "name": "stdout",
          "text": [
            "5408\n"
          ]
        }
      ]
    },
    {
      "cell_type": "code",
      "source": [
        "print(a<<6) # a = 0b1010100100000"
      ],
      "metadata": {
        "colab": {
          "base_uri": "https://localhost:8080/"
        },
        "id": "PHC6dbNKeP3m",
        "outputId": "b165bdd8-37e4-4c85-f845-021babfb36c4"
      },
      "execution_count": null,
      "outputs": [
        {
          "output_type": "stream",
          "name": "stdout",
          "text": [
            "10816\n"
          ]
        }
      ]
    },
    {
      "cell_type": "code",
      "source": [
        "print(1<<7)"
      ],
      "metadata": {
        "colab": {
          "base_uri": "https://localhost:8080/"
        },
        "id": "5fLM4pe0XkD-",
        "outputId": "5ec23c36-9d7d-4f7c-c101-b0f94161f338"
      },
      "execution_count": null,
      "outputs": [
        {
          "output_type": "stream",
          "name": "stdout",
          "text": [
            "128\n"
          ]
        }
      ]
    },
    {
      "cell_type": "code",
      "source": [
        "so = 0b10101010"
      ],
      "metadata": {
        "id": "g1l_f6_ZYGLl"
      },
      "execution_count": null,
      "outputs": []
    },
    {
      "cell_type": "code",
      "source": [
        "print((so&(1<<4))>>4)"
      ],
      "metadata": {
        "colab": {
          "base_uri": "https://localhost:8080/"
        },
        "id": "njXaeLfdYIzu",
        "outputId": "c4ddd486-fb09-4be4-8ffa-99c7b77b5f02"
      },
      "execution_count": null,
      "outputs": [
        {
          "output_type": "stream",
          "name": "stdout",
          "text": [
            "0\n"
          ]
        }
      ]
    },
    {
      "cell_type": "code",
      "source": [
        "so = 0b11110000\n",
        "for i in range(8):\n",
        "  print('Bit so ',i,'la:',(so&(1<<i))>>i)"
      ],
      "metadata": {
        "colab": {
          "base_uri": "https://localhost:8080/"
        },
        "id": "K8e6lJcKYv3D",
        "outputId": "167e88e4-69da-410f-f069-7ccfafc5578e"
      },
      "execution_count": null,
      "outputs": [
        {
          "output_type": "stream",
          "name": "stdout",
          "text": [
            "Bit so  0 la: 0\n",
            "Bit so  1 la: 0\n",
            "Bit so  2 la: 0\n",
            "Bit so  3 la: 0\n",
            "Bit so  4 la: 1\n",
            "Bit so  5 la: 1\n",
            "Bit so  6 la: 1\n",
            "Bit so  7 la: 1\n"
          ]
        }
      ]
    },
    {
      "cell_type": "markdown",
      "source": [
        "#Điều khiển LED trên 74HC595 sáng lan dần"
      ],
      "metadata": {
        "id": "twMACBs_ezOQ"
      }
    },
    {
      "cell_type": "code",
      "source": [
        "x = 0 # trường hợp 1, tắt hết LED\n",
        "#hoặc x = 0b00000000\n",
        "while(True):\n",
        "  for i in range(8): # lặp lại 8 lần tương ứng 8 bit\n",
        "    bit = (x&(1<<i))>>i #tách từng bit trong một số ra\n",
        "    IC595.output(DATA_PIN,bit) # gửi từng bit được tách đến 595\n",
        "    nhipxung() # nhịp xung theo từng bit để gửi đến 595\n",
        "  chotxung() # gửi xung chốt sau khi đã gửi xong 8 bit\n",
        "  sleep(0.5) # tạm ngưng để thấy được LED sáng\n",
        "  x = x*2 + 1 #tăng dần đến bước sáng tiếp theo\n",
        "  if (x == 255): # kiểm tra chặn trên\n",
        "    x = 0 # quay lại bước đầu nếu thoả điều kiện\n"
      ],
      "metadata": {
        "id": "KuuCdL8Lc8py"
      },
      "execution_count": null,
      "outputs": []
    },
    {
      "cell_type": "markdown",
      "source": [
        "##RASPBERRY WITH 74HC595 CONTROL LED 7 SEG."
      ],
      "metadata": {
        "id": "M0WFwevIpfad"
      }
    },
    {
      "cell_type": "markdown",
      "source": [
        "Phiên bản sử dụng thư viện: https://github.com/Mecany1/shiftr_74HC595"
      ],
      "metadata": {
        "id": "URL5yPz3r55d"
      }
    },
    {
      "cell_type": "code",
      "source": [
        "#tạo mảng để lưu các mã LED 7 đoạn\n",
        "maled = [..,..,..,..,..,..,..,..,..,..]\n",
        "         #0 #1 #2 #3 #4 #5 #6 #7 #8 #9\n"
      ],
      "metadata": {
        "id": "WERmhcT5pe9d"
      },
      "execution_count": null,
      "outputs": []
    },
    {
      "cell_type": "code",
      "source": [
        "import RPi.GPIO as GPIO\n",
        "from shiftr_74HC595.shiftr_74HC595 import ShiftRegister #thư viện điều khiển 74HC595 bằng raspberry pi\n",
        "from time import sleep\n",
        "\n",
        "GPIO.setmode(GPIO.BCM) #chọn chế độ đánh số GPIO\n",
        "maled =[[, , , , , , , ],\n",
        "        [, , , , , , , ],\n",
        "        [, , , , , , , ],\n",
        "        ..\n",
        "        ..\n",
        "        ..\n",
        "        ] #mã LED tương ứng - tuỳ theo cách nối dây\n",
        "BUTTON_PIN = .. #chân gắn nút nhấn\n",
        "DATA_PIN = .. #chân truyền dữ liệu\n",
        "SH_CP_PIN = .. #chân nhịp xung để gửi dữ liệu #CLOCK_PIN\n",
        "ST_CP_PIN = .. #chân chốt xung để gửi dữ liệu #LATCH_PIN\n",
        "\n",
        "GPIO.setup(BUTTON_PIN, GPIO.IN, pull_up_down=GPIO.PUD_UP) #khai báo chế độ INPUT - PULL_UP\n",
        "\n",
        "shift_register = ShiftRegister(DATA_PIN, ST_CP_PIN, SH_CP_PIN) #khai báo các chân liên quan dùng cho thư viện điều khiển\n",
        "\n",
        "hienthi = 0 #giá trị hiển thị đầu tiên sẽ là 0, sau đó mới bắt đầu kiểm tra và đếm số lần nhấn nút\n",
        "shift_register.setOutputs(maled[hienthi]) #hiển thị số 0 khi bắt đầu\n",
        "shift_register.latch() #chốt xung để hiển thị lên LED 7 đoạn\n",
        "while (1):\n",
        "  if GPIO.input(BUTTON_PIN)==0:\n",
        "    hienthi = hienthi + 1\n",
        "    if hienthi==10:\n",
        "      hienthi = 0\n",
        "    shift_register.setOutputs(maled[hienthi])\n",
        "    while (GPIO.input(BUTTON_PIN)==0):\n",
        "      sleep(0.01)\n",
        "    sleep(0.2)\n",
        "\n",
        "GPIO.cleanup()"
      ],
      "metadata": {
        "id": "3JmQg2-rr77N"
      },
      "execution_count": null,
      "outputs": []
    },
    {
      "cell_type": "code",
      "source": [],
      "metadata": {
        "id": "kaqlQpW1tsHy"
      },
      "execution_count": null,
      "outputs": []
    }
  ]
}